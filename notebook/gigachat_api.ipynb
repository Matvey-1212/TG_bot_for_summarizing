{
 "cells": [
  {
   "cell_type": "markdown",
   "metadata": {},
   "source": [
    "# Func for gigachat API"
   ]
  },
  {
   "cell_type": "code",
   "execution_count": null,
   "metadata": {},
   "outputs": [],
   "source": [
    "import requests\n",
    "import uuid\n",
    "\n",
    "def get_token(auth_token, scope='GIGACHAT_API_PERS'):\n",
    "    rq_uid = str(uuid.uuid4())\n",
    "\n",
    "    url = \"https://ngw.devices.sberbank.ru:9443/api/v2/oauth\"\n",
    "\n",
    "    headers = {\n",
    "        'Content-Type': 'application/x-www-form-urlencoded',\n",
    "        'Accept': 'application/json',\n",
    "        'RqUID': rq_uid,\n",
    "        'Authorization': f'Basic {auth_token}'\n",
    "    }\n",
    "\n",
    "\n",
    "    payload = {\n",
    "        'scope': scope\n",
    "    }\n",
    "\n",
    "    try:\n",
    "        response = requests.post(url, headers=headers, data=payload, verify=False)\n",
    "        return response\n",
    "    except requests.RequestException as e:\n",
    "        print(f\"Ошибка: {str(e)}\")\n",
    "        return -1\n",
    "    \n",
    "\n",
    "def get_chat_completion(auth_token, user_message):\n",
    "    url = \"https://gigachat.devices.sberbank.ru/api/v1/chat/completions\"\n",
    "\n",
    "    payload = json.dumps({\n",
    "        \"model\": \"GigaChat\",\n",
    "        \"messages\": [\n",
    "            {\n",
    "                \"role\": \"user\",\n",
    "                \"content\": user_message\n",
    "            }\n",
    "        ],\n",
    "        \"temperature\": 1,\n",
    "        \"top_p\": 0.1,\n",
    "        \"n\": 1,\n",
    "        \"stream\": False,\n",
    "        \"max_tokens\": 10,\n",
    "        \"repetition_penalty\": 1, \n",
    "        \"update_interval\": 0\n",
    "    })\n",
    "\n",
    "    headers = {\n",
    "        'Content-Type': 'application/json',\n",
    "        'Accept': 'application/json',\n",
    "        'Authorization': f'Bearer {auth_token}'\n",
    "    }\n",
    "\n",
    "    try:\n",
    "        response = requests.request(\"POST\", url, headers=headers, data=payload, verify=False)\n",
    "        return response\n",
    "    except requests.RequestException as e:\n",
    "        print(f\"Произошла ошибка: {str(e)}\")\n",
    "        return -1\n"
   ]
  },
  {
   "cell_type": "code",
   "execution_count": null,
   "metadata": {},
   "outputs": [],
   "source": [
    "your_api_token = '<token>'"
   ]
  },
  {
   "cell_type": "code",
   "execution_count": null,
   "metadata": {},
   "outputs": [],
   "source": [
    "response = get_token(your_api_token)\n",
    "if response != 1:\n",
    "  print(response.text)\n",
    "  giga_token = response.json()['access_token']"
   ]
  },
  {
   "cell_type": "code",
   "execution_count": null,
   "metadata": {},
   "outputs": [],
   "source": [
    "prompt = \"\"\"Ты – эксперт по разметке новостного контента. Твоя задача – определить, к какой одной категории относится данная новость. Ниже приведён список доступных категорий:\n",
    "0 - Политика: новости о правительстве, выборах, международных отношениях, законодательстве.\n",
    "1 - Экономика и бизнес: финансовые рынки, корпоративные новости, стартапы, экономические обзоры.\n",
    "2 - Спорт: результаты матчей, анонсы спортивных событий, интервью, аналитика спортивных событий.\n",
    "3 - Культура и развлечения: кино, музыка, театр, выставки, обзоры культурных событий.\n",
    "4 - Технологии и наука: новости IT-сферы, инновации, открытия, гаджеты, исследования.\n",
    "5 - Здоровье и медицина: новости о медицине, исследования, советы по здоровью, эпидемии.\n",
    "6 - Общество: социальные тренды, образование, городская жизнь, экология, права человека.\n",
    "7 - Происшествия и криминал: сообщения о происшествиях, расследованиях, криминальных событиях.\n",
    "8 - Локальные новости: события, касающиеся определённых регионов или городов.\n",
    "\n",
    "Инструкция:\n",
    "Прочитай текст новости, представленный ниже.\n",
    "Определи основную тему новости, сопоставив её с описаниями категорий.\n",
    "Выведи в ответ только один класс, соответствующий новости.\n",
    "Ответ должен состоять из одного слова – названия категории, которое следует после двоеточия.\n",
    "Например, если новость касается выборов, твой ответ должен быть:\n",
    "\"Политика\"\n",
    "\n",
    "Текст для анализа: /\"{text}/\". Ответь одни классом из [\"Политика\",\"Экономика и бизнес\",\"Спорт\",\"Культура и развлечения\",\"Технологии и наука\",\"Здоровье и медицина\",\"Общество\",\"Происшествия и криминал\",\"Локальные новости\"]:\"\"\""
   ]
  },
  {
   "cell_type": "code",
   "execution_count": null,
   "metadata": {},
   "outputs": [],
   "source": [
    "text = 'Чиновники, депутаты и правозащитники вернулись к обсуждению «сухого закона» для водителей. Противники возвращения промилле считают, что в России из-за ментальности населения разрешать пить за рулем даже в минимальных дозах нельзя. С тех пор как обнулили допустимую норму, число «пьяных» ДТП только выросло, а водителей с мизерным опьянением повсеместно лишают прав и вымогают крупные взятки.'\n",
    "prompt.format(text=text)"
   ]
  },
  {
   "cell_type": "code",
   "execution_count": null,
   "metadata": {},
   "outputs": [],
   "source": [
    "answer = get_chat_completion(giga_token,prompt.format(text=text))\n",
    "print(answer.json()['choices'][0]['message']['content'])"
   ]
  },
  {
   "cell_type": "markdown",
   "metadata": {},
   "source": [
    "# Markup datasets from transforrmers"
   ]
  },
  {
   "cell_type": "code",
   "execution_count": 4,
   "metadata": {},
   "outputs": [],
   "source": [
    "import csv\n",
    "from tqdm import tqdm\n",
    "from datasets import load_dataset\n",
    "\n",
    "name = 'IlyaGusev/gazeta' # the news dataset\n",
    "dataset = load_dataset(name)"
   ]
  },
  {
   "cell_type": "code",
   "execution_count": 5,
   "metadata": {},
   "outputs": [
    {
     "data": {
      "text/plain": [
       "DatasetDict({\n",
       "    train: Dataset({\n",
       "        features: ['text', 'summary', 'title', 'date', 'url'],\n",
       "        num_rows: 60964\n",
       "    })\n",
       "    validation: Dataset({\n",
       "        features: ['text', 'summary', 'title', 'date', 'url'],\n",
       "        num_rows: 6369\n",
       "    })\n",
       "    test: Dataset({\n",
       "        features: ['text', 'summary', 'title', 'date', 'url'],\n",
       "        num_rows: 6793\n",
       "    })\n",
       "})"
      ]
     },
     "execution_count": 5,
     "metadata": {},
     "output_type": "execute_result"
    }
   ],
   "source": [
    "dataset"
   ]
  },
  {
   "cell_type": "code",
   "execution_count": null,
   "metadata": {},
   "outputs": [],
   "source": [
    "prompt = \"\"\"Ты – эксперт по разметке новостного контента. Твоя задача – определить, к какой одной категории относится данная новость. Ниже приведён список доступных категорий:\n",
    "0 - Политика: новости о правительстве, выборах, международных отношениях, законодательстве.\n",
    "1 - Экономика и бизнес: финансовые рынки, корпоративные новости, стартапы, экономические обзоры.\n",
    "2 - Спорт: результаты матчей, анонсы спортивных событий, интервью, аналитика спортивных событий.\n",
    "3 - Культура и развлечения: кино, музыка, театр, выставки, обзоры культурных событий.\n",
    "4 - Технологии и наука: новости IT-сферы, инновации, открытия, гаджеты, исследования.\n",
    "5 - Здоровье и медицина: новости о медицине, исследования, советы по здоровью, эпидемии.\n",
    "6 - Общество: социальные тренды, образование, городская жизнь, экология, права человека.\n",
    "7 - Происшествия и криминал: сообщения о происшествиях, расследованиях, криминальных событиях.\n",
    "8 - Локальные новости: события, касающиеся определённых регионов или городов.\n",
    "\n",
    "Инструкция:\n",
    "Прочитай текст новости, представленный ниже.\n",
    "Определи основную тему новости, сопоставив её с описаниями категорий.\n",
    "Выведи в ответ только один класс, соответствующий новости.\n",
    "Ответ должен состоять из одного слова – названия категории, которое следует после двоеточия.\n",
    "Например, если новость касается выборов, твой ответ должен быть:\n",
    "\"Политика\"\n",
    "\n",
    "Текст для анализа: \"{text}\". Ответь одни классом из [\"Политика\",\"Экономика и бизнес\",\"Спорт\",\"Культура и развлечения\",\"Технологии и наука\",\"Здоровье и медицина\",\"Общество\",\"Происшествия и криминал\",\"Локальные новости\"]:\"\"\""
   ]
  },
  {
   "cell_type": "markdown",
   "metadata": {},
   "source": [
    "### Markup only validation set becaus of free token limits"
   ]
  },
  {
   "cell_type": "code",
   "execution_count": null,
   "metadata": {},
   "outputs": [],
   "source": [
    "with open('output2.csv', mode='w', newline='', encoding='utf-8') as file:\n",
    "    writer = csv.writer(file)\n",
    "    writer.writerow(['text', 'output'])\n",
    "    \n",
    "    for i, data in enumerate(tqdm(dataset['validation'], total=len(dataset['validation']))):\n",
    "        answer = get_chat_completion(giga_token,prompt.format(text=data['summary'])).json()['choices'][0]['message']['content']\n",
    "        row = [data['summary'], str(answer)]\n",
    "        writer.writerow(row)\n"
   ]
  },
  {
   "cell_type": "code",
   "execution_count": null,
   "metadata": {},
   "outputs": [],
   "source": []
  }
 ],
 "metadata": {
  "kernelspec": {
   "display_name": "dl_project",
   "language": "python",
   "name": "python3"
  },
  "language_info": {
   "codemirror_mode": {
    "name": "ipython",
    "version": 3
   },
   "file_extension": ".py",
   "mimetype": "text/x-python",
   "name": "python",
   "nbconvert_exporter": "python",
   "pygments_lexer": "ipython3",
   "version": "3.10.16"
  }
 },
 "nbformat": 4,
 "nbformat_minor": 2
}
