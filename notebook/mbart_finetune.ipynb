{
 "cells": [
  {
   "cell_type": "code",
   "execution_count": null,
   "id": "5dc56e67-0b8f-4b50-992c-6ca463ee81c7",
   "metadata": {},
   "outputs": [],
   "source": [
    "import torch\n",
    "from torch.utils.data import DataLoader\n",
    "from torch.optim import AdamW, Adam\n",
    "from torch.amp import GradScaler, autocast\n",
    "from transformers import MBartTokenizer, MBartForConditionalGeneration\n",
    "from transformers import T5TokenizerFast, AutoModelForSeq2SeqLM \n",
    "from transformers import AutoTokenizer, AutoModelForCausalLM\n",
    "from datasets import load_dataset\n",
    "from tqdm import tqdm"
   ]
  },
  {
   "cell_type": "code",
   "execution_count": null,
   "id": "6d81df20-fea4-4dfe-85c1-6d962fccdecf",
   "metadata": {},
   "outputs": [],
   "source": [
    "custom_cache_dir = \"/home/maantonov_1/HF_data\"\n",
    "\n",
    "device = torch.device(\"cuda\" if torch.cuda.is_available() else \"cpu\")\n",
    "\n",
    "model_name = \"Kirili4ik/mbart_ruDialogSum\"\n",
    "tokenizer = AutoTokenizer.from_pretrained(model_name, use_fast=True, cache_dir=custom_cache_dir)\n",
    "model = MBartForConditionalGeneration.from_pretrained(model_name, cache_dir=custom_cache_dir).to(device)\n",
    "\n",
    "dataset = load_dataset(\"RussianNLP/Mixed-Summarization-Dataset\")"
   ]
  },
  {
   "cell_type": "code",
   "execution_count": null,
   "id": "37470c22-58ef-4551-a076-5ad2509a5a31",
   "metadata": {},
   "outputs": [],
   "source": [
    "def preprocess_function(examples):\n",
    "    inputs = [doc for doc in examples['text']]\n",
    "    model_inputs = tokenizer(inputs, max_length=600, truncation=True, padding=\"max_length\")\n",
    "    with tokenizer.as_target_tokenizer():\n",
    "        labels = tokenizer(examples['summary'], max_length=150, truncation=True, padding=\"max_length\")\n",
    "    model_inputs[\"labels\"] = labels[\"input_ids\"]\n",
    "    return model_inputs"
   ]
  },
  {
   "cell_type": "code",
   "execution_count": null,
   "id": "e44faa04-7ef5-4acd-ac3c-708787e935da",
   "metadata": {},
   "outputs": [],
   "source": [
    "path = 'DL_PROJECT/data_mbart_tok'\n",
    "try:\n",
    "    tokenized_datasets = load_from_disk(path)\n",
    "except:\n",
    "    tokenized_datasets = dataset.map(preprocess_function, batched=True)\n",
    "    tokenized_datasets.save_to_disk(path)\n",
    "\n",
    "\n",
    "train_dataset = tokenized_datasets['train']\n",
    "eval_dataset = tokenized_datasets['test']"
   ]
  },
  {
   "cell_type": "code",
   "execution_count": null,
   "id": "77eefd1f-f3db-4c3b-88ad-10b1fb0751d9",
   "metadata": {},
   "outputs": [],
   "source": [
    "def collate_fn(batch):\n",
    "    input_ids = torch.stack([torch.tensor(item['input_ids'], dtype=torch.long) for item in batch])\n",
    "    attention_mask = torch.stack([torch.tensor(item['attention_mask'], dtype=torch.long) for item in batch])\n",
    "    labels = torch.stack([torch.tensor(item['labels'], dtype=torch.long) for item in batch])\n",
    "    return {\n",
    "        'input_ids': input_ids,\n",
    "        'attention_mask': attention_mask,\n",
    "        'labels': labels\n",
    "    }\n",
    "\n",
    "train_dataloader = DataLoader(train_dataset, shuffle=True, batch_size=8, collate_fn=collate_fn)\n",
    "eval_dataloader = DataLoader(eval_dataset, batch_size=8, collate_fn=collate_fn)"
   ]
  },
  {
   "cell_type": "code",
   "execution_count": null,
   "id": "ab450afd-da61-4244-9501-f55c156a41e4",
   "metadata": {},
   "outputs": [],
   "source": [
    "torch.cuda.empty_cache()\n",
    "optimizer = Adam(model.parameters(), lr=5e-5)\n",
    "\n",
    "\n",
    "accumulation_steps = 16\n",
    "scaler = GradScaler()\n",
    "\n",
    "model.train()\n",
    "for epoch in range(3):\n",
    "    optimizer.zero_grad() \n",
    "    \n",
    "    progress_bar = tqdm(train_dataloader, desc=f\"Epoch {epoch + 1}\", leave=False)\n",
    "    \n",
    "    running_loss = 0\n",
    "    \n",
    "    for i, batch in enumerate(progress_bar):\n",
    "        input_ids = batch['input_ids'].to(device)\n",
    "        attention_mask = batch['attention_mask'].to(device)\n",
    "        labels = batch['labels'].to(device)\n",
    "        \n",
    "        with autocast('cuda'):\n",
    "            outputs = model(input_ids=input_ids, attention_mask=attention_mask, labels=labels)\n",
    "            loss = outputs.loss\n",
    "        \n",
    "        running_loss += loss.item()\n",
    "        loss = loss / accumulation_steps\n",
    "        scaler.scale(loss).backward()\n",
    "        \n",
    "        if (i + 1) % accumulation_steps == 0:\n",
    "            scaler.step(optimizer)\n",
    "            scaler.update()\n",
    "            optimizer.zero_grad()\n",
    "            \n",
    "        progress_bar.set_postfix({\"Running Loss\": running_loss / (i+1)})\n",
    "        \n",
    "    if len(train_dataloader) % accumulation_steps != 0:\n",
    "        scaler.step(optimizer)\n",
    "        scaler.update()\n",
    "        optimizer.zero_grad()\n",
    "    \n",
    "    progress_bar.close()"
   ]
  },
  {
   "cell_type": "code",
   "execution_count": null,
   "id": "ac4aa8c1-ce23-4888-84c3-763ea3345478",
   "metadata": {},
   "outputs": [],
   "source": [
    "save_directory = \"/home/maantonov_1/HF_data/mbart\"\n",
    "\n",
    "model.save_pretrained(save_directory)\n",
    "tokenizer.save_pretrained(save_directory)"
   ]
  }
 ],
 "metadata": {
  "kernelspec": {
   "display_name": "Python [.conda-retinanet]",
   "language": "python",
   "name": "conda-env-.conda-retinanet-py"
  },
  "language_info": {
   "codemirror_mode": {
    "name": "ipython",
    "version": 3
   },
   "file_extension": ".py",
   "mimetype": "text/x-python",
   "name": "python",
   "nbconvert_exporter": "python",
   "pygments_lexer": "ipython3",
   "version": "3.11.6"
  }
 },
 "nbformat": 4,
 "nbformat_minor": 5
}
